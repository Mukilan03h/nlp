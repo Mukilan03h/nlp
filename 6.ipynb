{
  "cells": [
    {
      "cell_type": "code",
      "execution_count": null,
      "metadata": {
        "id": "wyKBrIyz67GA"
      },
      "outputs": [],
      "source": [
        "from nltk.corpus import wordnet"
      ]
    },
    {
      "cell_type": "code",
      "execution_count": null,
      "metadata": {
        "id": "ieGB_fL067GB"
      },
      "outputs": [],
      "source": [
        "def semantic_tagging(word):\n",
        "    synsets = wordnet.synsets(word)\n",
        "    semantic_info = []\n",
        "    for synset in synsets:\n",
        "        synset_info = {\n",
        "            \"name\": synset.name(),\n",
        "            \"definition\": synset.definition(),\n",
        "            \"examples\": synset.examples()\n",
        "        }\n",
        "        semantic_info.append(synset_info)\n",
        "    return semantic_info\n"
      ]
    },
    {
      "cell_type": "code",
      "execution_count": null,
      "metadata": {
        "id": "fJe2IWRL67GB",
        "outputId": "c80461e0-311f-44c5-9248-7e292dc9e12b"
      },
      "outputs": [
        {
          "name": "stdout",
          "output_type": "stream",
          "text": [
            "Semantic Information for 'dog'\n"
          ]
        }
      ],
      "source": [
        "# Example word\n",
        "word = \"dog\"\n",
        "semantic_info = semantic_tagging(word)\n",
        "print(\"Semantic Information for '{}'\".format(word))"
      ]
    },
    {
      "cell_type": "code",
      "execution_count": null,
      "metadata": {
        "id": "ERZjAIGP67GC",
        "outputId": "91df2457-b2c8-4b95-f75b-c654bf9453da"
      },
      "outputs": [
        {
          "name": "stdout",
          "output_type": "stream",
          "text": [
            "Name: dog.n.01\n",
            "Definition: a member of the genus Canis (probably descended from the common wolf) that has been domesticated by man since prehistoric times; occurs in many breeds\n",
            "Examples: ['the dog barked all night']\n",
            "\n",
            "Name: frump.n.01\n",
            "Definition: a dull unattractive unpleasant girl or woman\n",
            "Examples: ['she got a reputation as a frump', \"she's a real dog\"]\n",
            "\n",
            "Name: dog.n.03\n",
            "Definition: informal term for a man\n",
            "Examples: ['you lucky dog']\n",
            "\n",
            "Name: cad.n.01\n",
            "Definition: someone who is morally reprehensible\n",
            "Examples: ['you dirty dog']\n",
            "\n",
            "Name: frank.n.02\n",
            "Definition: a smooth-textured sausage of minced beef or pork usually smoked; often served on a bread roll\n",
            "Examples: []\n",
            "\n",
            "Name: pawl.n.01\n",
            "Definition: a hinged catch that fits into a notch of a ratchet to move a wheel forward or prevent it from moving backward\n",
            "Examples: []\n",
            "\n",
            "Name: andiron.n.01\n",
            "Definition: metal supports for logs in a fireplace\n",
            "Examples: ['the andirons were too hot to touch']\n",
            "\n",
            "Name: chase.v.01\n",
            "Definition: go after with the intent to catch\n",
            "Examples: ['The policeman chased the mugger down the alley', 'the dog chased the rabbit']\n",
            "\n"
          ]
        }
      ],
      "source": [
        "for info in semantic_info:\n",
        "    print(\"Name:\", info[\"name\"])\n",
        "    print(\"Definition:\", info[\"definition\"])\n",
        "    print(\"Examples:\", info[\"examples\"])\n",
        "    print()\n"
      ]
    }
  ],
  "metadata": {
    "kernelspec": {
      "display_name": "Python 3",
      "language": "python",
      "name": "python3"
    },
    "language_info": {
      "codemirror_mode": {
        "name": "ipython",
        "version": 3
      },
      "file_extension": ".py",
      "mimetype": "text/x-python",
      "name": "python",
      "nbconvert_exporter": "python",
      "pygments_lexer": "ipython3",
      "version": "3.12.1"
    },
    "colab": {
      "provenance": []
    }
  },
  "nbformat": 4,
  "nbformat_minor": 0
}