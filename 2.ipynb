{
  "cells": [
    {
      "cell_type": "code",
      "execution_count": null,
      "metadata": {
        "id": "azAv9f7T6j_O"
      },
      "outputs": [],
      "source": [
        "import nltk\n",
        "from nltk.stem import PorterStemmer, WordNetLemmatizer\n"
      ]
    },
    {
      "cell_type": "code",
      "execution_count": null,
      "metadata": {
        "id": "b4pZoH9H6j_P",
        "outputId": "191ad780-9cf4-4c0f-ebef-fddec5943a37"
      },
      "outputs": [
        {
          "name": "stderr",
          "output_type": "stream",
          "text": [
            "[nltk_data] Downloading package wordnet to\n",
            "[nltk_data]     C:\\Users\\mukil\\AppData\\Roaming\\nltk_data...\n",
            "[nltk_data]   Package wordnet is already up-to-date!\n"
          ]
        },
        {
          "data": {
            "text/plain": [
              "True"
            ]
          },
          "execution_count": 9,
          "metadata": {},
          "output_type": "execute_result"
        }
      ],
      "source": [
        "import nltk\n",
        "nltk.download('wordnet')\n"
      ]
    },
    {
      "cell_type": "code",
      "execution_count": null,
      "metadata": {
        "id": "rnAsQ6uv6j_Q"
      },
      "outputs": [],
      "source": [
        "# Initialize stemmer and lemmatizer\n",
        "stemmer = PorterStemmer()\n",
        "lemmatizer = WordNetLemmatizer()"
      ]
    },
    {
      "cell_type": "code",
      "execution_count": null,
      "metadata": {
        "id": "zuDc3tsg6j_Q"
      },
      "outputs": [],
      "source": [
        "words = [\n",
        "    \"running\", \"easily\", \"cats\", \"geese\", \"swimming\", \"swimmingly\", \"jumped\", \"jumping\", \"eaten\", \"eating\",\n",
        "    \"beautiful\", \"beauty\", \"quickly\", \"quicker\", \"quickest\", \"faster\", \"fastest\", \"slowness\", \"slower\", \"slowest\",\n",
        "    \"happiest\", \"happily\", \"saddest\", \"sadly\", \"angrier\", \"angry\", \"angriest\", \"laughed\", \"laughing\", \"laughable\",\n",
        "    \"laughingly\", \"cry\", \"crying\", \"cried\", \"cryingly\", \"cried\", \"criedly\", \"happy\", \"happily\", \"happiest\", \"slow\",\n",
        "    \"slowly\", \"slower\", \"fastest\", \"fast\", \"faster\", \"quick\", \"quickly\", \"quickest\", \"quickness\"\n",
        "]\n"
      ]
    },
    {
      "cell_type": "code",
      "execution_count": null,
      "metadata": {
        "id": "qrFSmkNA6j_Q",
        "outputId": "e4ecacf3-87b0-4046-ed7e-6ffb62d75fef"
      },
      "outputs": [
        {
          "name": "stdout",
          "output_type": "stream",
          "text": [
            "Stemmed words: ['run', 'easili', 'cat', 'gees', 'swim', 'swimmingli', 'jump', 'jump', 'eaten', 'eat', 'beauti', 'beauti', 'quickli', 'quicker', 'quickest', 'faster', 'fastest', 'slow', 'slower', 'slowest', 'happiest', 'happili', 'saddest', 'sadli', 'angrier', 'angri', 'angriest', 'laugh', 'laugh', 'laughabl', 'laughingli', 'cri', 'cri', 'cri', 'cryingli', 'cri', 'criedli', 'happi', 'happili', 'happiest', 'slow', 'slowli', 'slower', 'fastest', 'fast', 'faster', 'quick', 'quickli', 'quickest', 'quick']\n"
          ]
        }
      ],
      "source": [
        "\n",
        "# Stemming\n",
        "stemmed_words = [stemmer.stem(word) for word in words]\n",
        "print(\"Stemmed words:\", stemmed_words)\n"
      ]
    },
    {
      "cell_type": "code",
      "execution_count": null,
      "metadata": {
        "id": "n5iURNRN6j_R",
        "outputId": "383bb4c1-1d2b-49d1-f67d-2a1566c7e351"
      },
      "outputs": [
        {
          "name": "stdout",
          "output_type": "stream",
          "text": [
            "Lemmatized words: ['running', 'easily', 'cat', 'goose', 'swimming', 'swimmingly', 'jumped', 'jumping', 'eaten', 'eating', 'beautiful', 'beauty', 'quickly', 'quicker', 'quickest', 'faster', 'fastest', 'slowness', 'slower', 'slowest', 'happiest', 'happily', 'saddest', 'sadly', 'angrier', 'angry', 'angriest', 'laughed', 'laughing', 'laughable', 'laughingly', 'cry', 'cry', 'cried', 'cryingly', 'cried', 'criedly', 'happy', 'happily', 'happiest', 'slow', 'slowly', 'slower', 'fastest', 'fast', 'faster', 'quick', 'quickly', 'quickest', 'quickness']\n"
          ]
        }
      ],
      "source": [
        "# Lemmatizing\n",
        "lemmatized_words = [lemmatizer.lemmatize(word) for word in words]\n",
        "print(\"Lemmatized words:\", lemmatized_words)"
      ]
    }
  ],
  "metadata": {
    "kernelspec": {
      "display_name": "Python 3",
      "language": "python",
      "name": "python3"
    },
    "language_info": {
      "codemirror_mode": {
        "name": "ipython",
        "version": 3
      },
      "file_extension": ".py",
      "mimetype": "text/x-python",
      "name": "python",
      "nbconvert_exporter": "python",
      "pygments_lexer": "ipython3",
      "version": "3.12.1"
    },
    "colab": {
      "provenance": []
    }
  },
  "nbformat": 4,
  "nbformat_minor": 0
}